{
 "cells": [
  {
   "cell_type": "markdown",
   "metadata": {},
   "source": [
    "# Specifications for DevOps Notification Triaging Project\n",
    "\n",
    "## Problem\n",
    "\n",
    "The current workflow for maintenance of automated updates is dependent on built-in DevOps failure emails from VisualCron.  These emails are sent to one person, who is responsible for investigating each failed task.  Upon investigation, that person does one of two things:\n",
    "\n",
    "1. If the failure was due to not having received a file from the district, the district is added to a Google Sheet, which is regularly monitored by Partner Support Implementation Managers.  Those IMs are responsible for monitoring that spreadsheet and contacting the district.\n",
    "2. If the failure was due to an error with pre-processing (e.g. changes made to Schedule files where the ScheduleWizard mapping needs to be recreated), a JIRA task is manually created, where the Reporter is the district's IM and the Assignee is the regional DIS.  These Maintenance tickets have an SLA of 2 days to be evaluated.\n",
    "\n",
    "Though there are automation failures each day, the investigation of these DevOps emails is entirely manual and very time-consuming for one person, and thus cannot be done daily.  This causes failures to persist for days at a time, which can pose a problem for account relationships, especially with Enterprise districts.\n",
    "\n",
    "## Solution\n",
    "\n",
    "The ideal solution to this problem is to divide all failed VisualCron tasks by region, automatically email regional DIS's, and automatically create JIRA Maintenance tickets.  This way, Maintenance investigation can be partially automated, and the responsibility can be dispersed across the team.\n",
    "\n",
    "**Must Have**\n",
    "- Way to filter VisualCron tasks by region\n",
    "- Use first two letters of Group as state and direct each state into region\n",
    "- Send all DevOps failure emails to new regional DIS email accounts to disseminate maintenance responsibility (e.g. northeast_dis@ellevationeducation.com)\n",
    "- Reasonable and scalable migration\n",
    "\n",
    "**Should Have**\n",
    "- Customize text of emails to be more specific as to the cause of the failure\n",
    "- Include entire stack trace\n",
    "- Automatically create JIRA Maintenance ticket Assigned to regional DIS, who will then investigate\n",
    "\n",
    "**Could Have**\n",
    "- Create DevOps failure \"digest\" emails 1x/day to reduce number of emails sent to regional DIS\n",
    "- Automate next steps depending on text in output stack trace\n",
    "    - If output of task failure does not contain \"No file(s) found,\" send email to regional DIS email address and automatically create a Maintenance ticket assigned to regional DIS (or maybe only create JIRA ticket - upon ticket Assignment, email could be sent regardless)\n",
    "    - If output of task failure contains \"No file(s) found,\" automatically add district, data type, and last task completion date to Google Sheet\n",
    "- Hooks for other global extensions\n",
    "\n",
    "**Would Like**\n",
    "- If Maintenance JIRA ticket is created, use Salesforce API to automatically set district's Account Owner as Reporter\n",
    "- If district is added to Google Sheet due to no files having been sent by district, use Salseforce API to send alert email to district Account Owner"
   ]
  }
 ],
 "metadata": {
  "kernelspec": {
   "display_name": "Python 3",
   "language": "python",
   "name": "python3"
  },
  "language_info": {
   "codemirror_mode": {
    "name": "ipython",
    "version": 3
   },
   "file_extension": ".py",
   "mimetype": "text/x-python",
   "name": "python",
   "nbconvert_exporter": "python",
   "pygments_lexer": "ipython3",
   "version": "3.5.2"
  }
 },
 "nbformat": 4,
 "nbformat_minor": 1
}
