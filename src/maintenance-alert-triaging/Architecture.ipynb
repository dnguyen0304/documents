{
 "cells": [
  {
   "cell_type": "markdown",
   "metadata": {},
   "source": [
    "# Architecture for the Maintenance Alert Triaging Project\n",
    "\n",
    "## Overview\n",
    "\n",
    "Have a database store the mapping between Data Integration Specialists, districts, and regions.\n",
    "\n",
    "Instead of VisualCron handling issues, have a Python framework wrap existing code and accept runtime metadata.  Most relevant here are details about exceptions and errors.  Based on those arguments, its configuration, and the database, a triaging service would respond by invoking handlers.\n",
    "\n",
    "## Description\n",
    "\n",
    "- **Feature 1:** PostgreSQL Database\n",
    "    - store the mapping between Data Integration Specialists, districts, and regions\n",
    "    - *consider Redis instead of PostgreSQL*\n",
    "\n",
    "\n",
    "- **Feature 2:** Python Client\n",
    "    - configure handlers\n",
    "    - capture the district, exception / error, and stack trace"
   ]
  },
  {
   "cell_type": "code",
   "execution_count": null,
   "metadata": {
    "collapsed": true
   },
   "outputs": [],
   "source": [
    "#!/usr/bin/env python\n",
    "# -*- coding: utf-8 -*-\n",
    "\n",
    "import service\n",
    "\n",
    "\n",
    "@service.wrapper\n",
    "def main(*args, **kwargs):\n",
    "    # Apply data transformation.\n",
    "\n",
    "\n",
    "if __name__ == '__main__':\n",
    "    main()\n"
   ]
  },
  {
   "cell_type": "markdown",
   "metadata": {},
   "source": [
    "- **Feature 3:** Email Handler\n",
    "    - extends the client to send emails by calling Amazon Web Services\n",
    "    - *consider Rackspace instead of Amazon Web Services*\n",
    "\n",
    "\n",
    "- **Feature 4:** JIRA Handler\n",
    "    - extends the client to create JIRA Issues\n",
    "\n",
    "\n",
    "- **Feature 5:** Documentation\n",
    "    - document with particular attention on (1) how to migrate existing code and (2) how to maintain the service\n",
    "\n",
    "\n",
    "- **Feature 6:** Testing\n",
    "    - test \"Must Have\" and \"Should Have\" features\n",
    "\n",
    "## Discussion\n",
    "\n",
    "- How is the mapping between Data Integration Specialists, districts, and regions maintained?\n",
    "- How are duplicate emails and tickets avoided if an exception / error is left unresolved?\n",
    "- How will existing code be migrated?"
   ]
  }
 ],
 "metadata": {
  "kernelspec": {
   "display_name": "Python 3",
   "language": "python",
   "name": "python3"
  },
  "language_info": {
   "codemirror_mode": {
    "name": "ipython",
    "version": 3
   },
   "file_extension": ".py",
   "mimetype": "text/x-python",
   "name": "python",
   "nbconvert_exporter": "python",
   "pygments_lexer": "ipython3",
   "version": "3.5.2"
  }
 },
 "nbformat": 4,
 "nbformat_minor": 1
}
