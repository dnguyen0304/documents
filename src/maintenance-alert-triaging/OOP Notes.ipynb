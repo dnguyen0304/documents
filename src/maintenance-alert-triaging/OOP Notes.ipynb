{
 "cells": [
  {
   "cell_type": "markdown",
   "metadata": {},
   "source": [
    "# Overview\n",
    "\n",
    "**What is object-oriented programming?** Object-oriented programming (OOP) is a paradigm where *objects* that bundle (*encapsulate*) both data (*attributes*) and functionality (*methods*) interact with one another.\n",
    "\n",
    "**Why should object-oriented programming be used?** Use OOP to make it simpler for users to understand the code and to protect underlying data (*information hiding*).  In OOP, programs are broken down into objects that by design provide guidance as to what functionality is applicable.  Objects provide abstraction over complex algorithms and data structures.  Developers may subsequently consider more about what needs to happen rather than how it will happen.  Library authors on the other hand retain the freedom to change implementation details at a later time.\n",
    "\n",
    "**When should object-oriented programming be used?** The motivations for using OOP are no different than any other paradigm.  Use OOP when the paradigm will provide code efficiency, reusability, simplicity, etc. for the business requirements.\n",
    "\n",
    "# Vocabulary\n",
    "- **namespace:** logical, hierarchical grouping of code that facilitates organization and name reuse\n",
    "- **class:** abstract template or \"blueprint\" of an object\n",
    "- **attribute:** object variable\n",
    "- **method:** object function that usually has access to the class (`cls`) or instance (`self`)\n",
    "- **interface:** contract that describes the API through the object type, and public attributes and methods; some definitions may include method input (*call signature*) and output (*return type*)\n",
    "- **instance:** concrete realization of an object\n",
    "- **instantiation:** process of using a class to create an instance of that type\n",
    "- **constructor:** special method (`__init__`) specifically for instantiation and is therefore the instance's public \"entry point\"\n",
    "- **class attribute:** variable general to all instances\n",
    "- **instance attribute:** variable specific to a single instance\n",
    "\n",
    "# Related Links\n",
    "- [Namespace](https://en.wikipedia.org/wiki/Namespace)"
   ]
  },
  {
   "cell_type": "markdown",
   "metadata": {},
   "source": [
    "# Examples"
   ]
  },
  {
   "cell_type": "code",
   "execution_count": null,
   "metadata": {
    "collapsed": false
   },
   "outputs": [],
   "source": [
    "#!/usr/bin/env python\n",
    "# -*- coding: utf-8 -*-\n",
    "\n",
    "import logging\n",
    "\n",
    "\n",
    "class Students(object):\n",
    "\n",
    "    count = 0\n",
    "\n",
    "    # While this is a method, it must return None.\n",
    "    def __init__(self, first_name, last_name):\n",
    "\n",
    "        \"\"\"\n",
    "        Students model.\n",
    "\n",
    "        Parameters\n",
    "        ----------\n",
    "        first_name : str\n",
    "            Forename.\n",
    "        last_name : str\n",
    "            Surname.\n",
    "\n",
    "        Attributes\n",
    "        ----------\n",
    "        first_name : str\n",
    "            Forename.\n",
    "        last_name : str\n",
    "            Surname.\n",
    "        count : int\n",
    "            Automatically incrementing counter.\n",
    "        \"\"\"\n",
    "\n",
    "        self.first_name = first_name\n",
    "        self.last_name = last_name\n",
    "\n",
    "    def __repr__(self):\n",
    "        repr_ = '{class_}(first_name=\"{first_name}\", last_name=\"{last_name}\")'\n",
    "        return repr_.format(class_=self.__class__.__name__,\n",
    "                            first_name=self.first_name,\n",
    "                            last_name=self.last_name)\n",
    "\n",
    "\n",
    "def main():\n",
    "\n",
    "    logging.basicConfig(level=logging.INFO,\n",
    "                        format='%(asctime)s %(levelname)s: %(message)s',\n",
    "                        datefmt='%Y-%m-%d %H:%M:%S')\n",
    "\n",
    "    students = []\n",
    "\n",
    "    # Instantiate a new Students object.\n",
    "    student_1 = Students(first_name='Bruiser', last_name='Nguyen')\n",
    "    # Add that student to the collection of all students.\n",
    "    students.append(student_1)\n",
    "\n",
    "    logging.info(student_1)\n",
    "\n",
    "    # Get the current student's first name.\n",
    "    logging.info('The student\\'s first name was %s.' % student_1.first_name)\n",
    "    # Update the current student's first name.\n",
    "    student_1.first_name = 'Foo'\n",
    "    # Get the current student's first name.\n",
    "    logging.info('The student\\'s first name is now %s.' % student_1.first_name)\n",
    "\n",
    "\n",
    "if __name__ == '__main__':\n",
    "    main()\n"
   ]
  }
 ],
 "metadata": {
  "kernelspec": {
   "display_name": "Python 3",
   "language": "python",
   "name": "python3"
  },
  "language_info": {
   "codemirror_mode": {
    "name": "ipython",
    "version": 3
   },
   "file_extension": ".py",
   "mimetype": "text/x-python",
   "name": "python",
   "nbconvert_exporter": "python",
   "pygments_lexer": "ipython3",
   "version": "3.5.2"
  }
 },
 "nbformat": 4,
 "nbformat_minor": 1
}
