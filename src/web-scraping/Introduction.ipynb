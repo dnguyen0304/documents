{
 "cells": [
  {
   "cell_type": "markdown",
   "metadata": {},
   "source": [
    "# Overview\n",
    "**What is web scraping?** Programmatically fetching and then extracting data from web pages by relying on the semi-predictability of HTML.\n",
    "\n",
    "**Why should web scraping be used?** To obtain data when the server does not provide a public API, exports (e.g. CSV), or database access. These options are listed starting with the most desirable one.\n",
    "\n",
    "**When should web scraping be used?** Some data is formatted conveniently as a table and may be manually “scraped” with Copy + Paste. Other information such as [flight fares on Kayak](https://www.kayak.com/flights/BOS-DCA/2017-03-04-flexible) is formatted horizontally or distributed throughout the page. Web scraping is at least even with database access because it is also highly unreliable and maintenance-intensive. At this tier, there are no guarantees from the developers. They may introduce backward-incompatible changes to the data model or HTML document at any time without notice. Manual labor is often more accurate and cost-effective.\n",
    "\n",
    "This is not to say implementing web scraping is inherently a poor decision. Rather one should be particularly thoughtful. In some circumstances, web scraping is the best and even only viable option.\n",
    "\n",
    "# Relevant Skills and Technologies\n",
    "- Chrome Developer Tools ([Keyboard Shortcuts](https://developers.google.com/web/tools/chrome-devtools/inspect-styles/shortcuts))\n",
    "    - Open Chrome Developer Tools: **Cmd + Opt + I**\n",
    "    - Open / switch between inspect element mode and browser window: **Cmd + Shift + C**\n",
    "    - Execute CSS Selector: **$$(\"&lt;selector&gt;\")**\n",
    "    - Execute XPath: **$x(\"&lt;xpath&gt;\")**\n",
    "- HTML\n",
    "    - [Elements, Tags, and Content](http://www.w3schools.com/html/html_elements.asp)\n",
    "    - [Attributes](http://www.w3schools.com/html/html_attributes.asp)\n",
    "- [CSS Selector](http://www.w3schools.com/cssref/css_selectors.asp)\n",
    "- [XPath](http://www.w3schools.com/xml/xpath_intro.asp)"
   ]
  },
  {
   "cell_type": "markdown",
   "metadata": {},
   "source": [
    "# Case Studies\n",
    "- **[ISO 639](https://www.loc.gov/standards/iso639-2/php/code_list.php)** Fetch the data from this web page and extract the ISO 639-2 code, ISO 639-1 code, and the English name for each language.  Return the data as a list of lists of strings.\n",
    "    - Should you select using classes, IDs, paths, or something else?\n",
    "    - Should you select using CSS selectors, XPATH, or server-side code?"
   ]
  },
  {
   "cell_type": "code",
   "execution_count": null,
   "metadata": {
    "collapsed": false
   },
   "outputs": [],
   "source": [
    "#!/usr/bin/env python\n",
    "# -*- coding: utf-8 -*-\n",
    "\n",
    "import pandas as pd\n",
    "import requests\n",
    "from lxml import html\n",
    "\n",
    "\n",
    "def main():\n",
    "\n",
    "    \"\"\"\n",
    "    Get the language code data.\n",
    "\n",
    "    Returns\n",
    "    -------\n",
    "    list\n",
    "        Collection of table rows.\n",
    "    \"\"\"\n",
    "\n",
    "    response = requests.get(url='https://www.loc.gov/standards/iso639-2/php/code_list.php')\n",
    "\n",
    "    # This is the equivalent XPath: \"//table//table[1]//tr\".\n",
    "    # Note that this is 1-indexed.\n",
    "    selector = 'table table:first-of-type tr'\n",
    "    nodes = html.fromstring(response.text).cssselect(selector)\n",
    "\n",
    "    return nodes\n",
    "\n",
    "\n",
    "if __name__ == '__main__':\n",
    "    as_data_frame = False\n",
    "    nodes = main()\n",
    "\n",
    "    # Convert from the lists of HTML elements to that of strings.\n",
    "    nodes_parsed = [[child.text for child in node.iterchildren()] for node in nodes]\n",
    "\n",
    "    if as_data_frame:\n",
    "        data_frame = pd.DataFrame(nodes_parsed[1:], columns=nodes_parsed[0])\n",
    "        print(data_frame.head())\n",
    "    else:\n",
    "        for node in nodes_parsed[:5]:\n",
    "            print(node)\n"
   ]
  },
  {
   "cell_type": "markdown",
   "metadata": {},
   "source": [
    "# More Practice\n",
    "- **[Osprey Bags and Packs](http://www.ospreypacks.com/us/en/category/packs-and-bags/)**"
   ]
  }
 ],
 "metadata": {
  "kernelspec": {
   "display_name": "Python 3",
   "language": "python",
   "name": "python3"
  },
  "language_info": {
   "codemirror_mode": {
    "name": "ipython",
    "version": 3
   },
   "file_extension": ".py",
   "mimetype": "text/x-python",
   "name": "python",
   "nbconvert_exporter": "python",
   "pygments_lexer": "ipython3",
   "version": "3.5.2"
  }
 },
 "nbformat": 4,
 "nbformat_minor": 1
}
